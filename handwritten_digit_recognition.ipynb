{
 "cells": [
  {
   "cell_type": "markdown",
   "id": "82fb561a",
   "metadata": {},
   "source": [
    "# Hand Written Digits Recognition \n"
   ]
  },
  {
   "cell_type": "markdown",
   "id": "d2c68e8a",
   "metadata": {},
   "source": [
    "## importing libraries"
   ]
  },
  {
   "cell_type": "code",
   "execution_count": 3,
   "id": "6e3511a5",
   "metadata": {},
   "outputs": [],
   "source": [
    "import tensorflow as tf\n",
    "from tensorflow.keras.models import Sequential #help us to stack layers one by one\n",
    "from tensorflow.keras.layers import Dense, Flatten #Dense - Fully connected layers, Flatten - Convert 2d images into 1d (28x28-> 784)\n",
    "from tensorflow.keras.datasets import mnist # Built in dataset of handwritten digits"
   ]
  },
  {
   "cell_type": "markdown",
   "id": "0584fda2",
   "metadata": {},
   "source": [
    "## Loading and Preprocessing the data\n"
   ]
  },
  {
   "cell_type": "code",
   "execution_count": 4,
   "id": "c16ef4c2",
   "metadata": {},
   "outputs": [],
   "source": [
    "(x_train, y_train), (x_test,y_test) = mnist.load_data()#(image,label)\n",
    "\n",
    "# x_train and x_test are images of 28x28 grayscale\n",
    "# y_train and y_test are labels from 0-9\n",
    "\n",
    "# ''' Each image contains 28x28 grayscale images-> 784 pixels \n",
    "# Each pixel has value between 0-255 \n",
    "# where 0 represents black (0-> Black)\n",
    "# and 255 represnts white (255-> White)'''\n",
    "\n",
    "# ''' Giving large values like 227,74 may mess up the training\n",
    "# Neural Network Works better when there is small inputs'''\n",
    "\n",
    "# ''' /255 results\n",
    "# 0-> Black\n",
    "# 0.5-> Grey\n",
    "# 1-> White'''\n",
    "\n",
    "## Normalize the images (0-255 → 0-1)\n",
    "x_train=x_train/255 # \n",
    "x_test=x_test/255\n"
   ]
  },
  {
   "cell_type": "markdown",
   "id": "093148b4",
   "metadata": {},
   "source": [
    "## Building the Neural Network"
   ]
  },
  {
   "cell_type": "code",
   "execution_count": 5,
   "id": "3793507e",
   "metadata": {},
   "outputs": [
    {
     "name": "stderr",
     "output_type": "stream",
     "text": [
      "C:\\Users\\Yash\\AppData\\Local\\Packages\\PythonSoftwareFoundation.Python.3.10_qbz5n2kfra8p0\\LocalCache\\local-packages\\Python310\\site-packages\\keras\\src\\layers\\reshaping\\flatten.py:37: UserWarning: Do not pass an `input_shape`/`input_dim` argument to a layer. When using Sequential models, prefer using an `Input(shape)` object as the first layer in the model instead.\n",
      "  super().__init__(**kwargs)\n"
     ]
    },
    {
     "data": {
      "text/plain": [
       "'\\nmodel=Sequential([\\n    Flatten(input_shape=(28,28)),\\n    Dense(128,activation=\"relu\"),\\n    Dense(10,activation=\"softmax\")\\n])\\n'"
      ]
     },
     "execution_count": 5,
     "metadata": {},
     "output_type": "execute_result"
    }
   ],
   "source": [
    "model = Sequential([\n",
    "    Flatten(input_shape=(28, 28)), \n",
    "    Dense(128, activation=\"relu\"), \n",
    "    Dense(10, activation=\"softmax\")\n",
    "])\n",
    "''' Flatten Converts the 28x28 into 784 (1D Array) input neurons\n",
    "    Dense create a layer of 128 neurons with activation function Relu this \n",
    "    This layer learns patterns, combinations of pixels, etc.\n",
    "        Relu Function is used for keeping only positive values and neglecting negative ones\n",
    "    Dense with Softmax function create a layer of output with 10 Neurons coz there are 10 digits(0-9)\n",
    "    Softmax converts raw output to probabilities (0 to 1) whose sum is 1\n",
    "    Example: If the model sees a 3, it might output:\n",
    "    [0.01, 0.02, 0.05, 0.87, 0.01, 0.01, 0.01, 0.01, 0.01, 0.01]\n",
    "    Means: 87% sure it's a \"3\" \n",
    "    Sequential([...])\n",
    "    This tells TensorFlow:\n",
    "    “Hey! Build this model step-by-step — from top to bottom — one layer after another.”\n",
    "    '''\n",
    "'''\n",
    "model=Sequential([\n",
    "    Flatten(input_shape=(28,28)),\n",
    "    Dense(128,activation=\"relu\"),\n",
    "    Dense(10,activation=\"softmax\")\n",
    "])\n",
    "'''"
   ]
  },
  {
   "cell_type": "markdown",
   "id": "6329e231",
   "metadata": {},
   "source": [
    "## Compiling the Model"
   ]
  },
  {
   "cell_type": "code",
   "execution_count": 6,
   "id": "348b03fc",
   "metadata": {},
   "outputs": [],
   "source": [
    "model.compile(\n",
    "    optimizer=\"adam\",\n",
    "    loss=\"sparse_categorical_crossentropy\",\n",
    "    metrics=[\"accuracy\"]\n",
    ")"
   ]
  },
  {
   "cell_type": "markdown",
   "id": "04eafd46",
   "metadata": {},
   "source": [
    "# Training the model"
   ]
  },
  {
   "cell_type": "code",
   "execution_count": 7,
   "id": "c57c3113",
   "metadata": {},
   "outputs": [
    {
     "name": "stdout",
     "output_type": "stream",
     "text": [
      "Epoch 1/5\n",
      "\u001b[1m1875/1875\u001b[0m \u001b[32m━━━━━━━━━━━━━━━━━━━━\u001b[0m\u001b[37m\u001b[0m \u001b[1m8s\u001b[0m 3ms/step - accuracy: 0.8738 - loss: 0.4451\n",
      "Epoch 2/5\n",
      "\u001b[1m1875/1875\u001b[0m \u001b[32m━━━━━━━━━━━━━━━━━━━━\u001b[0m\u001b[37m\u001b[0m \u001b[1m5s\u001b[0m 3ms/step - accuracy: 0.9619 - loss: 0.1261\n",
      "Epoch 3/5\n",
      "\u001b[1m1875/1875\u001b[0m \u001b[32m━━━━━━━━━━━━━━━━━━━━\u001b[0m\u001b[37m\u001b[0m \u001b[1m5s\u001b[0m 3ms/step - accuracy: 0.9756 - loss: 0.0807\n",
      "Epoch 4/5\n",
      "\u001b[1m1875/1875\u001b[0m \u001b[32m━━━━━━━━━━━━━━━━━━━━\u001b[0m\u001b[37m\u001b[0m \u001b[1m5s\u001b[0m 3ms/step - accuracy: 0.9819 - loss: 0.0595\n",
      "Epoch 5/5\n",
      "\u001b[1m1875/1875\u001b[0m \u001b[32m━━━━━━━━━━━━━━━━━━━━\u001b[0m\u001b[37m\u001b[0m \u001b[1m5s\u001b[0m 3ms/step - accuracy: 0.9872 - loss: 0.0423\n"
     ]
    },
    {
     "data": {
      "text/plain": [
       "<keras.src.callbacks.history.History at 0x2564aa77670>"
      ]
     },
     "execution_count": 7,
     "metadata": {},
     "output_type": "execute_result"
    }
   ],
   "source": [
    "model.fit(x_train,y_train,epochs=5)"
   ]
  },
  {
   "cell_type": "markdown",
   "id": "081d30ae",
   "metadata": {},
   "source": [
    "# Evaluate the model"
   ]
  },
  {
   "cell_type": "code",
   "execution_count": 8,
   "id": "c6ca642e",
   "metadata": {},
   "outputs": [
    {
     "name": "stdout",
     "output_type": "stream",
     "text": [
      "\u001b[1m313/313\u001b[0m \u001b[32m━━━━━━━━━━━━━━━━━━━━\u001b[0m\u001b[37m\u001b[0m \u001b[1m1s\u001b[0m 3ms/step - accuracy: 0.9747 - loss: 0.0846\n",
      "Test Accuracy:  0.9772999882698059\n"
     ]
    }
   ],
   "source": [
    "loss, accuracy= model.evaluate(x_test,y_test)\n",
    "print(\"Test Accuracy: \",accuracy)"
   ]
  },
  {
   "cell_type": "markdown",
   "id": "4f7b5fc5",
   "metadata": {},
   "source": [
    "# Showing The Image"
   ]
  },
  {
   "cell_type": "code",
   "execution_count": 9,
   "id": "3dcff7db",
   "metadata": {},
   "outputs": [
    {
     "data": {
      "text/plain": [
       "<matplotlib.image.AxesImage at 0x2564aecc8b0>"
      ]
     },
     "execution_count": 9,
     "metadata": {},
     "output_type": "execute_result"
    },
    {
     "data": {
      "image/png": "[encoded data removed]",
      "text/plain": [
       "<Figure size 640x480 with 1 Axes>"
      ]
     },
     "metadata": {},
     "output_type": "display_data"
    }
   ],
   "source": [
    "import matplotlib.pyplot as plt\n",
    "\n",
    "plt.imshow(x_test[0])"
   ]
  },
  {
   "cell_type": "markdown",
   "id": "d7add0fc",
   "metadata": {},
   "source": [
    "# Making A Prediction"
   ]
  },
  {
   "cell_type": "code",
   "execution_count": 11,
   "id": "4e7b0fc9",
   "metadata": {},
   "outputs": [
    {
     "name": "stdout",
     "output_type": "stream",
     "text": [
      "\u001b[1m1/1\u001b[0m \u001b[32m━━━━━━━━━━━━━━━━━━━━\u001b[0m\u001b[37m\u001b[0m \u001b[1m0s\u001b[0m 93ms/step\n",
      "predicted digit:  7\n"
     ]
    }
   ],
   "source": [
    "prediction= model.predict(x_test[:1]) #2d array\n",
    "#gives probabibility of predicted digits\n",
    "'''\n",
    "    2d array, outer list = images\n",
    "              inner list = probabilities for digits 0-9\n",
    "     prediction = [[0.01, 0.02, 0.10, 0.03, 0.02, 0.01, 0.05, 0.65, 0.01, 0.10]]\n",
    "'''\n",
    "'''x_test[:1] is like accesing zeroth element via slicing\n",
    "   x_test[img1,img2,img3,....]\n",
    "\n",
    "'''\n",
    "predicted_digit = tf.argmax(prediction[0]).numpy()  \n",
    "print(\"predicted digit: \", predicted_digit)"
   ]
  },
  {
   "cell_type": "code",
   "execution_count": 12,
   "id": "244391a8",
   "metadata": {},
   "outputs": [
    {
     "data": {
      "image/png": "[encoded data removed]",
      "text/plain": [
       "<Figure size 640x480 with 1 Axes>"
      ]
     },
     "metadata": {},
     "output_type": "display_data"
    },
    {
     "data": {
      "image/png": "[encoded data removed]",
      "text/plain": [
       "<Figure size 640x480 with 1 Axes>"
      ]
     },
     "metadata": {},
     "output_type": "display_data"
    },
    {
     "data": {
      "image/png": "[encoded data removed]",
      "text/plain": [
       "<Figure size 640x480 with 1 Axes>"
      ]
     },
     "metadata": {},
     "output_type": "display_data"
    }
   ],
   "source": [
    "for i in range(3):\n",
    "    plt.figure()\n",
    "    plt.imshow(x_test[i],cmap=\"grey\")\n",
    "    plt.title(y_test[i])"
   ]
  },
  {
   "cell_type": "code",
   "execution_count": 14,
   "id": "7b0c1c9f",
   "metadata": {},
   "outputs": [
    {
     "name": "stdout",
     "output_type": "stream",
     "text": [
      "\u001b[1m1/1\u001b[0m \u001b[32m━━━━━━━━━━━━━━━━━━━━\u001b[0m\u001b[37m\u001b[0m \u001b[1m0s\u001b[0m 96ms/step\n",
      "Predicted Digit is: tf.Tensor(1, shape=(), dtype=int64)\n"
     ]
    }
   ],
   "source": [
    "prediction=model.predict(x_test[0:3])\n",
    "predicted_digit=tf.argmax(prediction[2]) \n",
    "''' To avoid \n",
    "Predicted Digit is: tf.Tensor(1, shape=(), dtype=int64)\n",
    "this type of output we convert the value using numpy'''\n",
    "print(\"Predicted Digit is:\", predicted_digit)"
   ]
  },
  {
   "cell_type": "code",
   "execution_count": 16,
   "id": "478354cb",
   "metadata": {},
   "outputs": [
    {
     "name": "stdout",
     "output_type": "stream",
     "text": [
      "\u001b[1m1/1\u001b[0m \u001b[32m━━━━━━━━━━━━━━━━━━━━\u001b[0m\u001b[37m\u001b[0m \u001b[1m0s\u001b[0m 57ms/step\n",
      "Predicted Digit is:  1\n"
     ]
    }
   ],
   "source": [
    "prediction=model.predict(x_test[0:3])\n",
    "predicted_digit=tf.argmax(prediction[2]).numpy()\n",
    "print(\"Predicted Digit is: \",predicted_digit)"
   ]
  },
  {
   "cell_type": "code",
   "execution_count": 18,
   "id": "dafb30e3",
   "metadata": {},
   "outputs": [
    {
     "name": "stdout",
     "output_type": "stream",
     "text": [
      "predicted_digit for 3rd image is:  1 with probabilty:  0.9996319\n"
     ]
    }
   ],
   "source": [
    "probability = prediction[2][predicted_digit] \n",
    "'''Here we are accesing the probability of predicted digit, actually prediction is 2d array with outer list as images and inner list as their probability of digits'''\n",
    "print(\"predicted_digit for 3rd image is: \", predicted_digit, \"with probabilty: \", probability)"
   ]
  },
  {
   "cell_type": "code",
   "execution_count": 20,
   "id": "32051c91",
   "metadata": {},
   "outputs": [
    {
     "name": "stdout",
     "output_type": "stream",
     "text": [
      "\u001b[1m1/1\u001b[0m \u001b[32m━━━━━━━━━━━━━━━━━━━━\u001b[0m\u001b[37m\u001b[0m \u001b[1m0s\u001b[0m 57ms/step\n",
      "Predicted Digit for the 0th image is 7 with probability 0.9997062087059021\n",
      "Predicted Digit for the 1th image is 2 with probability 0.999879002571106\n",
      "Predicted Digit for the 2th image is 1 with probability 0.9996318817138672\n"
     ]
    }
   ],
   "source": [
    "prediction = model.predict(x_test[0:3])\n",
    "for i in range(0, 3):\n",
    "    predicted_digit = tf.argmax(prediction[i]).numpy() \n",
    "    '''Its a single digit (a number)'''\n",
    "    probability = prediction[i][predicted_digit] \n",
    "    '''Here we are accesing the probability of predicted digit, actually prediction is 2d array with outer list as images and inner list as their probability of digits'''\n",
    "    print(f\"Predicted Digit for the {i}th image is {predicted_digit} with probability {probability:}\")"
   ]
  },
  {
   "cell_type": "code",
   "execution_count": 21,
   "id": "2586199e",
   "metadata": {},
   "outputs": [
    {
     "data": {
      "text/plain": [
       "\" \\n    datatype of each variable?\\nLet me show you all that one by one:\\n\\n🧾 x_test\\n📦 Type: numpy.ndarray\\n\\n📐 Shape: (10000, 28, 28)\\n\\n10,000 test images, each of 28x28 pixels.\\n\\n📘 What’s inside: grayscale images of digits (pixel values from 0–255 or 0–1)\\n\\n🧾 x_test[:1]\\n📦 Type: numpy.ndarray\\n\\n📐 Shape: (1, 28, 28)\\n\\n💡 Still an array, but only containing 1 image.\\n\\nThis is done to simulate a batch — models expect batch inputs.\\n\\n🧾 prediction\\n📦 Type: numpy.ndarray\\n\\n📐 Shape: (1, 10)\\n\\n🔢 Why 10? Because we have 10 possible digits (0–9)\\n\\nThis array contains probabilities for each digit.\\n\\nExample:\\n\\npython\\nCopy\\nEdit\\n[[0.01, 0.02, 0.10, 0.03, 0.02, 0.01, 0.05, 0.65, 0.01, 0.10]]\\n→ Highest probability is at index 7, so model thinks it’s a 7!\\n\\n🧾 prediction[0]\\n📦 Type: numpy.ndarray\\n\\n📐 Shape: (10,)\\n\\n👉 It's a single row (just the 10 probability scores)\\n\\n🧾 tf.argmax(prediction[0])\\n📦 Type: Tensor\\n\\n🧮 Meaning: It picks the index where the probability is highest\\n\\nExample: if prediction[0] = [0.1, 0.3, 0.6, 0.0, ...] → result is 2\\n\\n🧾 tf.argmax(...).numpy()\\n📦 Type: int\\n\\nFinal converted number (regular Python integer)\\n\\nThis is the predicted digit by the model\\n\""
      ]
     },
     "execution_count": 21,
     "metadata": {},
     "output_type": "execute_result"
    }
   ],
   "source": [
    "''' \n",
    "    datatype of each variable?\n",
    "Let me show you all that one by one:\n",
    "\n",
    "🧾 x_test\n",
    "📦 Type: numpy.ndarray\n",
    "\n",
    "📐 Shape: (10000, 28, 28)\n",
    "\n",
    "10,000 test images, each of 28x28 pixels.\n",
    "\n",
    "📘 What’s inside: grayscale images of digits (pixel values from 0–255 or 0–1)\n",
    "\n",
    "🧾 x_test[:1]\n",
    "📦 Type: numpy.ndarray\n",
    "\n",
    "📐 Shape: (1, 28, 28)\n",
    "\n",
    "💡 Still an array, but only containing 1 image.\n",
    "\n",
    "This is done to simulate a batch — models expect batch inputs.\n",
    "\n",
    "🧾 prediction\n",
    "📦 Type: numpy.ndarray\n",
    "\n",
    "📐 Shape: (1, 10)\n",
    "\n",
    "🔢 Why 10? Because we have 10 possible digits (0–9)\n",
    "\n",
    "This array contains probabilities for each digit.\n",
    "\n",
    "Example:\n",
    "\n",
    "python\n",
    "Copy\n",
    "Edit\n",
    "[[0.01, 0.02, 0.10, 0.03, 0.02, 0.01, 0.05, 0.65, 0.01, 0.10]]\n",
    "→ Highest probability is at index 7, so model thinks it’s a 7!\n",
    "\n",
    "🧾 prediction[0]\n",
    "📦 Type: numpy.ndarray\n",
    "\n",
    "📐 Shape: (10,)\n",
    "\n",
    "👉 It's a single row (just the 10 probability scores)\n",
    "\n",
    "🧾 tf.argmax(prediction[0])\n",
    "📦 Type: Tensor\n",
    "\n",
    "🧮 Meaning: It picks the index where the probability is highest\n",
    "\n",
    "Example: if prediction[0] = [0.1, 0.3, 0.6, 0.0, ...] → result is 2\n",
    "\n",
    "🧾 tf.argmax(...).numpy()\n",
    "📦 Type: int\n",
    "\n",
    "Final converted number (regular Python integer)\n",
    "\n",
    "This is the predicted digit by the model\n",
    "'''"
   ]
  }
 ],
 "metadata": {
  "kernelspec": {
   "display_name": "Python 3",
   "language": "python",
   "name": "python3"
  },
  "language_info": {
   "codemirror_mode": {
    "name": "ipython",
    "version": 3
   },
   "file_extension": ".py",
   "mimetype": "text/x-python",
   "name": "python",
   "nbconvert_exporter": "python",
   "pygments_lexer": "ipython3",
   "version": "3.10.11"
  }
 },
 "nbformat": 4,
 "nbformat_minor": 5
}
